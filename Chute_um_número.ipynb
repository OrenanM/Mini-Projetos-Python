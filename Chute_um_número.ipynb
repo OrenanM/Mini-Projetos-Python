{
  "nbformat": 4,
  "nbformat_minor": 0,
  "metadata": {
    "colab": {
      "name": "Chute um número",
      "provenance": [],
      "authorship_tag": "ABX9TyOJTULCpjxpYq+ASvFDtD95",
      "include_colab_link": true
    },
    "kernelspec": {
      "name": "python3",
      "display_name": "Python 3"
    },
    "language_info": {
      "name": "python"
    }
  },
  "cells": [
    {
      "cell_type": "markdown",
      "metadata": {
        "id": "view-in-github",
        "colab_type": "text"
      },
      "source": [
        "<a href=\"https://colab.research.google.com/github/OrenanM/Mini-Projetos-Python/blob/main/Chute_um_n%C3%BAmero.ipynb\" target=\"_parent\"><img src=\"https://colab.research.google.com/assets/colab-badge.svg\" alt=\"Open In Colab\"/></a>"
      ]
    },
    {
      "cell_type": "code",
      "source": [
        "from random import randint\n",
        "class Gerador:\n",
        "  def __init__(self):\n",
        "    self._numero = 0\n",
        "    self._maximo = 10\n",
        "    self._minimo = 1\n",
        "    self._chute = 0\n",
        "    self._repetir = True\n",
        "\n",
        "  def iniciar(self):\n",
        "    self.gerar_aleatorio()\n",
        "    self._chutar()\n",
        "    while self._repetir:\n",
        "      if self._chute < self._numero:\n",
        "        print('Chute um número mais alto!')\n",
        "      if self._chute > self._numero:\n",
        "        print('Chute um número mais baixo!')\n",
        "      if self._chute == self._numero:\n",
        "        print('Parabéns, você acertou!')\n",
        "        self._repetir = False\n",
        "        break\n",
        "      self._chutar()\n",
        "    \n",
        "\n",
        "  def gerar_aleatorio(self):\n",
        "    self._numero = randint(self._minimo, self._maximo)\n",
        "\n",
        "  def _chutar(self):\n",
        "    try:\n",
        "      chute = input('Chute um número: ')\n",
        "      self._chute = int(chute)\n",
        "    except:\n",
        "      print('Por favor, digite apenas números!')\n",
        "      self.iniciar()\n",
        "    "
      ],
      "metadata": {
        "id": "YQwniVDKsUBt"
      },
      "execution_count": 21,
      "outputs": []
    },
    {
      "cell_type": "code",
      "source": [
        "while True:\n",
        "  gerador = Gerador()\n",
        "  gerador.iniciar()\n",
        "  resposta = input('Gostaria de jogar novamente? [S/N] ')\n",
        "  resposta = resposta.lower()\n",
        "  if resposta[0] == 'n':\n",
        "    break\n",
        "print(\"Obrigado por jogar\")"
      ],
      "metadata": {
        "colab": {
          "base_uri": "https://localhost:8080/"
        },
        "id": "uGIa4xo0vKKi",
        "outputId": "f993d0c1-d0d7-4495-da88-0db6b1aac858"
      },
      "execution_count": 22,
      "outputs": [
        {
          "output_type": "stream",
          "name": "stdout",
          "text": [
            "Chute um número: teste\n",
            "Por favor, digite apenas números!\n",
            "Chute um número: 5\n",
            "Chute um número mais alto!\n",
            "Chute um número: 7\n",
            "Parabéns, você acertou!\n",
            "Gostaria de jogar novamente? [S/N] Não\n",
            "Obrigado por jogar\n"
          ]
        }
      ]
    }
  ]
}