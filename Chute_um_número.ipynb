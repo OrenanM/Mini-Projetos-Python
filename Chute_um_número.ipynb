{
  "nbformat": 4,
  "nbformat_minor": 0,
  "metadata": {
    "colab": {
      "name": "Chute um número",
      "provenance": [],
      "authorship_tag": "ABX9TyOigK938fXW1+8XDPojP1/C",
      "include_colab_link": true
    },
    "kernelspec": {
      "name": "python3",
      "display_name": "Python 3"
    },
    "language_info": {
      "name": "python"
    }
  },
  "cells": [
    {
      "cell_type": "markdown",
      "metadata": {
        "id": "view-in-github",
        "colab_type": "text"
      },
      "source": [
        "<a href=\"https://colab.research.google.com/github/OrenanM/Mini-Projetos-Python/blob/main/Chute_um_n%C3%BAmero.ipynb\" target=\"_parent\"><img src=\"https://colab.research.google.com/assets/colab-badge.svg\" alt=\"Open In Colab\"/></a>"
      ]
    },
    {
      "cell_type": "code",
      "source": [
        "from random import randint\n",
        "class Gerador:\n",
        "  def __init__(self):\n",
        "    self._numero = None\n",
        "    self._maximo = 100\n",
        "    self._minimo = 1\n",
        "    self._chute = None\n",
        "\n",
        "  def iniciar(self):\n",
        "    self.gerar_aleatorio()\n",
        "    self._chutar()\n",
        "    while self._numero != self._chute:\n",
        "      if self._chute < self._numero:\n",
        "        print('Chute um número mais alto!')\n",
        "      if self._chute > self._numero:\n",
        "        print('Chute um número mais baixo!')\n",
        "      if self._chute == self._numero:\n",
        "        break\n",
        "      self._chutar()\n",
        "    print('Voce acertou!')\n",
        "\n",
        "  def gerar_aleatorio(self):\n",
        "    self._numero = randint(self._minimo, self._maximo)\n",
        "\n",
        "  def _chutar(self):\n",
        "    chute = input('Chute um número: ')\n",
        "    self._chute = int(chute)"
      ],
      "metadata": {
        "id": "YQwniVDKsUBt"
      },
      "execution_count": 25,
      "outputs": []
    },
    {
      "cell_type": "code",
      "source": [
        "while True:\n",
        "  gerador = Gerador()\n",
        "  gerador.iniciar()\n",
        "  resposta = input('Gostaria de jogar novamente? [S/N]')\n",
        "  resposta = resposta.lower()\n",
        "  if resposta[0] == 'n':\n",
        "    break\n",
        "print(\"Obrigado por jogar\")"
      ],
      "metadata": {
        "colab": {
          "base_uri": "https://localhost:8080/"
        },
        "id": "uGIa4xo0vKKi",
        "outputId": "0343d54f-27ca-471c-821c-1bedb917f457"
      },
      "execution_count": 26,
      "outputs": [
        {
          "output_type": "stream",
          "name": "stdout",
          "text": [
            "Chute um número: 50\n",
            "Chute um número mais baixo!\n",
            "Chute um número: 25\n",
            "Chute um número mais alto!\n",
            "Chute um número: 37\n",
            "Chute um número mais baixo!\n",
            "Chute um número: 31\n",
            "Chute um número mais baixo!\n",
            "Chute um número: 28\n",
            "Chute um número mais baixo!\n",
            "Chute um número: 26\n",
            "Chute um número mais alto!\n",
            "Chute um número: 27\n",
            "Voce acertou!\n",
            "Gostaria de jogar novamente? [S/N]n\n",
            "Obrigado por jogar\n"
          ]
        }
      ]
    }
  ]
}