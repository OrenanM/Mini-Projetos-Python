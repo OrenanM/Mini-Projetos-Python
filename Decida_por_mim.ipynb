{
  "nbformat": 4,
  "nbformat_minor": 0,
  "metadata": {
    "colab": {
      "name": "Decida por mim",
      "provenance": [],
      "authorship_tag": "ABX9TyN9I8ZlvxAQ93WTggMbSXCL",
      "include_colab_link": true
    },
    "kernelspec": {
      "name": "python3",
      "display_name": "Python 3"
    },
    "language_info": {
      "name": "python"
    }
  },
  "cells": [
    {
      "cell_type": "markdown",
      "metadata": {
        "id": "view-in-github",
        "colab_type": "text"
      },
      "source": [
        "<a href=\"https://colab.research.google.com/github/OrenanM/Mini-Projetos-Python/blob/main/Decida_por_mim.ipynb\" target=\"_parent\"><img src=\"https://colab.research.google.com/assets/colab-badge.svg\" alt=\"Open In Colab\"/></a>"
      ]
    },
    {
      "cell_type": "code",
      "execution_count": 1,
      "metadata": {
        "id": "g5ws8RsnIccl",
        "colab": {
          "base_uri": "https://localhost:8080/"
        },
        "outputId": "5d8a3b7e-bef2-47a3-b41b-dd12016cce34"
      },
      "outputs": [
        {
          "output_type": "stream",
          "name": "stdout",
          "text": [
            "Faça uma pergunta: Que horas são?\n",
            "Não sei, você que sabe\n"
          ]
        }
      ],
      "source": [
        "from random import choice\n",
        "class Decida:\n",
        "  def __init__(self):\n",
        "    self._resposta = [\n",
        "        'Com certeza, você deve fazer isso!',\n",
        "        'Não sei, você que sabe',\n",
        "        'Não, não faça isso!',\n",
        "        'Acho que está na hora certa'\n",
        "    ]\n",
        "\n",
        "  def iniciar(self):\n",
        "    input('Faça uma pergunta: ')\n",
        "    print(choice(self._resposta))\n",
        "\n",
        "decida = Decida()\n",
        "decida.iniciar()"
      ]
    }
  ]
}