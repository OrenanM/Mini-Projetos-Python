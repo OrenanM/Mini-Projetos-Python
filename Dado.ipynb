{
  "nbformat": 4,
  "nbformat_minor": 0,
  "metadata": {
    "colab": {
      "name": "Dado",
      "provenance": [],
      "collapsed_sections": [],
      "authorship_tag": "ABX9TyNAuI7c79r5pTFSsxCNdGYZ",
      "include_colab_link": true
    },
    "kernelspec": {
      "name": "python3",
      "display_name": "Python 3"
    },
    "language_info": {
      "name": "python"
    }
  },
  "cells": [
    {
      "cell_type": "markdown",
      "metadata": {
        "id": "view-in-github",
        "colab_type": "text"
      },
      "source": [
        "<a href=\"https://colab.research.google.com/github/OrenanM/Mini-Projetos-Python/blob/main/Dado.ipynb\" target=\"_parent\"><img src=\"https://colab.research.google.com/assets/colab-badge.svg\" alt=\"Open In Colab\"/></a>"
      ]
    },
    {
      "cell_type": "code",
      "execution_count": 1,
      "metadata": {
        "id": "Ams1y0WE85Xd",
        "colab": {
          "base_uri": "https://localhost:8080/"
        },
        "outputId": "60a6f041-c34a-4582-991b-aa9fc672da06"
      },
      "outputs": [
        {
          "output_type": "stream",
          "name": "stdout",
          "text": [
            "Você quer jogar o dado? Sim\n",
            "O número sorteado foi 4\n",
            " _____\n",
            "|O   O|\n",
            "|     |\n",
            "|O___O|\n",
            "\n",
            "Você quer jogar o dado? s im\n",
            "O número sorteado foi 3\n",
            " _____\n",
            "|O    |\n",
            "|  O  |\n",
            "|____O|\n",
            "\n",
            "Você quer jogar o dado? S   I MMMM\n",
            "O número sorteado foi 1\n",
            " _____\n",
            "|     |\n",
            "|  O  |\n",
            "|_____|\n",
            "\n",
            "Você quer jogar o dado? NÃO\n",
            "Ok, obrigado por participar!\n"
          ]
        }
      ],
      "source": [
        "from random import randint\n",
        "\n",
        "face = [\" _____\\n|     |\\n|  O  |\\n|_____|\", #1\n",
        "        \" _____\\n|O    |\\n|     |\\n|____O|\", #2\n",
        "        \" _____\\n|O    |\\n|  O  |\\n|____O|\", #3\n",
        "        \" _____\\n|O   O|\\n|     |\\n|O___O|\", #4\n",
        "        \" _____\\n|O   O|\\n|  O  |\\n|O___O|\", #5\n",
        "        \" _____\\n|O   O|\\n|O   O|\\n|O___O|\"] #6\n",
        "\n",
        "class Dado:\n",
        "  def __init__(self):\n",
        "    self._minimo = 1\n",
        "    self._maximo = 6\n",
        "    self._texto = \"Você quer jogar o dado? \"\n",
        "    self.iniciar()\n",
        "\n",
        "  def iniciar(self):\n",
        "\n",
        "    while True:\n",
        "      resposta = input(self._texto)\n",
        "      primeira_letra = resposta.strip().lower()[0]\n",
        "      if primeira_letra == 's':\n",
        "        self._joga_dado()\n",
        "      elif primeira_letra == 'n':\n",
        "        print('Ok, obrigado por participar!')\n",
        "        break\n",
        "      else:\n",
        "        print('Por favor, responda apenas sim ou não.')\n",
        "\n",
        "  def _joga_dado(self):\n",
        "    valor = randint(self._minimo, self._maximo)\n",
        "    print(f'O número sorteado foi {valor}')\n",
        "    print(face[valor-1])\n",
        "    print()\n",
        "\n",
        "dado = Dado()"
      ]
    },
    {
      "cell_type": "code",
      "source": [
        ""
      ],
      "metadata": {
        "id": "LOXWcX68Jg5F"
      },
      "execution_count": null,
      "outputs": []
    }
  ]
}